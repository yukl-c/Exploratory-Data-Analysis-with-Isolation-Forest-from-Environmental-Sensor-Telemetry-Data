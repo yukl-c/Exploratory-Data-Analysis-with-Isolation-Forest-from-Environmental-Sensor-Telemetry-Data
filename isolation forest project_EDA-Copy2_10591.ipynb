{
 "cells": [
  {
   "cell_type": "code",
   "execution_count": 1,
   "id": "ecc5dc2e",
   "metadata": {},
   "outputs": [],
   "source": [
    "import pandas as pd\n",
    "from sklearn.neighbors import KernelDensity\n",
    "from numpy import where, random, array, quantile\n",
    "from sklearn.preprocessing import scale\n",
    "import matplotlib.pyplot as plt\n",
    "import seaborn as sns\n",
    "import matplotlib.pyplot as plt"
   ]
  },
  {
   "cell_type": "code",
   "execution_count": 2,
   "id": "9b982da4",
   "metadata": {},
   "outputs": [],
   "source": [
    "place2_dataset = pd.read_csv('place2_dataset2_10591.csv')"
   ]
  },
  {
   "cell_type": "markdown",
   "id": "a247e1b5",
   "metadata": {},
   "source": [
    "### Temperature"
   ]
  },
  {
   "cell_type": "code",
   "execution_count": 3,
   "id": "bdb92d67",
   "metadata": {},
   "outputs": [
    {
     "name": "stdout",
     "output_type": "stream",
     "text": [
      "-3.184757193838726\n"
     ]
    }
   ],
   "source": [
    "kern_dens = KernelDensity()\n",
    "temp_array = place2_dataset['temp'].values.reshape(-1, 1)\n",
    "kern_dens.fit(temp_array)\n",
    "\n",
    "temp_scores = kern_dens.score_samples(temp_array)\n",
    "temp_threshold = quantile(temp_scores, .02)\n",
    "print(temp_threshold)"
   ]
  },
  {
   "cell_type": "code",
   "execution_count": 4,
   "id": "bb78d753",
   "metadata": {},
   "outputs": [
    {
     "data": {
      "text/plain": [
       "Int64Index([   92,   149,   195,   238,   244,   344,   346,   370,   380,\n",
       "              410,\n",
       "            ...\n",
       "            10157, 10166, 10217, 10289, 10403, 10460, 10465, 10467, 10482,\n",
       "            10496],\n",
       "           dtype='int64', length=217)"
      ]
     },
     "execution_count": 4,
     "metadata": {},
     "output_type": "execute_result"
    }
   ],
   "source": [
    "temp_idx = where(temp_scores <= temp_threshold)\n",
    "temp_values = place2_dataset.iloc[temp_idx]\n",
    "temp_values_index = temp_values.index\n",
    "temp_values_index"
   ]
  },
  {
   "cell_type": "markdown",
   "id": "6cac9996",
   "metadata": {},
   "source": [
    "### Humidity"
   ]
  },
  {
   "cell_type": "code",
   "execution_count": 5,
   "id": "fd7ea4ea",
   "metadata": {},
   "outputs": [
    {
     "name": "stdout",
     "output_type": "stream",
     "text": [
      "-5.265020064599701\n"
     ]
    }
   ],
   "source": [
    "humidity_array = place2_dataset['humidity'].values.reshape(-1, 1)\n",
    "kern_dens.fit(humidity_array)\n",
    "\n",
    "humidity_scores = kern_dens.score_samples(humidity_array)\n",
    "humidity_threshold = quantile(humidity_scores, .02)\n",
    "print(humidity_threshold)"
   ]
  },
  {
   "cell_type": "code",
   "execution_count": 6,
   "id": "e7c4dfb7",
   "metadata": {},
   "outputs": [
    {
     "data": {
      "text/plain": [
       "Int64Index([  116,   130,   226,   327,   478,   483,   516,   589,   654,\n",
       "              717,\n",
       "            ...\n",
       "             9978,  9987, 10010, 10210, 10276, 10284, 10340, 10416, 10535,\n",
       "            10582],\n",
       "           dtype='int64', length=215)"
      ]
     },
     "execution_count": 6,
     "metadata": {},
     "output_type": "execute_result"
    }
   ],
   "source": [
    "humidity_idx = where(humidity_scores <= humidity_threshold)\n",
    "humidity_values = place2_dataset.iloc[humidity_idx]\n",
    "humidity_values_index = humidity_values.index\n",
    "humidity_values_index"
   ]
  },
  {
   "cell_type": "markdown",
   "id": "1e1b4646",
   "metadata": {},
   "source": [
    "### CO"
   ]
  },
  {
   "cell_type": "code",
   "execution_count": 7,
   "id": "25687d70",
   "metadata": {},
   "outputs": [
    {
     "name": "stdout",
     "output_type": "stream",
     "text": [
      "-0.9189388270093009\n"
     ]
    }
   ],
   "source": [
    "co_array = place2_dataset['co'].values.reshape(-1, 1)\n",
    "kern_dens.fit(co_array)\n",
    "\n",
    "co_scores = kern_dens.score_samples(co_array)\n",
    "co_threshold = quantile(co_scores, .02)\n",
    "print(co_threshold)"
   ]
  },
  {
   "cell_type": "code",
   "execution_count": 8,
   "id": "54329b3a",
   "metadata": {},
   "outputs": [
    {
     "data": {
      "text/plain": [
       "Int64Index([    7,    67,   117,   129,   153,   163,   164,   180,   187,\n",
       "              258,\n",
       "            ...\n",
       "            10039, 10077, 10170, 10178, 10336, 10339, 10350, 10357, 10519,\n",
       "            10577],\n",
       "           dtype='int64', length=214)"
      ]
     },
     "execution_count": 8,
     "metadata": {},
     "output_type": "execute_result"
    }
   ],
   "source": [
    "co_idx = where(co_scores <= co_threshold)\n",
    "co_values = place2_dataset.iloc[co_idx]\n",
    "co_values_index = co_values.index\n",
    "co_values_index"
   ]
  },
  {
   "cell_type": "markdown",
   "id": "32edd9de",
   "metadata": {},
   "source": [
    "### LPG"
   ]
  },
  {
   "cell_type": "code",
   "execution_count": 9,
   "id": "6ef0df62",
   "metadata": {},
   "outputs": [
    {
     "name": "stdout",
     "output_type": "stream",
     "text": [
      "-0.9189389239788\n"
     ]
    }
   ],
   "source": [
    "lpg_array = place2_dataset['lpg'].values.reshape(-1, 1)\n",
    "kern_dens.fit(lpg_array)\n",
    "\n",
    "lpg_scores = kern_dens.score_samples(lpg_array)\n",
    "lpg_threshold = quantile(lpg_scores, .02)\n",
    "print(lpg_threshold)"
   ]
  },
  {
   "cell_type": "code",
   "execution_count": 10,
   "id": "1604243a",
   "metadata": {},
   "outputs": [
    {
     "data": {
      "text/plain": [
       "Int64Index([    7,    67,   117,   129,   153,   163,   164,   180,   187,\n",
       "              258,\n",
       "            ...\n",
       "            10039, 10077, 10170, 10178, 10336, 10339, 10350, 10357, 10519,\n",
       "            10577],\n",
       "           dtype='int64', length=214)"
      ]
     },
     "execution_count": 10,
     "metadata": {},
     "output_type": "execute_result"
    }
   ],
   "source": [
    "lpg_idx = where(lpg_scores <= lpg_threshold)\n",
    "lpg_values = place2_dataset.iloc[lpg_idx]\n",
    "lpg_values_index = lpg_values.index\n",
    "lpg_values_index"
   ]
  },
  {
   "cell_type": "code",
   "execution_count": 11,
   "id": "2fafdf9d",
   "metadata": {},
   "outputs": [
    {
     "data": {
      "text/html": [
       "<div>\n",
       "<style scoped>\n",
       "    .dataframe tbody tr th:only-of-type {\n",
       "        vertical-align: middle;\n",
       "    }\n",
       "\n",
       "    .dataframe tbody tr th {\n",
       "        vertical-align: top;\n",
       "    }\n",
       "\n",
       "    .dataframe thead th {\n",
       "        text-align: right;\n",
       "    }\n",
       "</style>\n",
       "<table border=\"1\" class=\"dataframe\">\n",
       "  <thead>\n",
       "    <tr style=\"text-align: right;\">\n",
       "      <th></th>\n",
       "      <th>ts</th>\n",
       "      <th>co</th>\n",
       "      <th>humidity</th>\n",
       "      <th>lpg</th>\n",
       "      <th>smoke</th>\n",
       "      <th>temp</th>\n",
       "      <th>Temp Anomaly</th>\n",
       "      <th>Humidity Anomaly</th>\n",
       "      <th>CO Anomaly</th>\n",
       "      <th>LPG Anomaly</th>\n",
       "    </tr>\n",
       "  </thead>\n",
       "  <tbody>\n",
       "    <tr>\n",
       "      <th>0</th>\n",
       "      <td>1.594642e+09</td>\n",
       "      <td>0.004511</td>\n",
       "      <td>59.700001</td>\n",
       "      <td>0.007148</td>\n",
       "      <td>0.018981</td>\n",
       "      <td>23.600000</td>\n",
       "      <td>-1</td>\n",
       "      <td>-1</td>\n",
       "      <td>-1</td>\n",
       "      <td>-1</td>\n",
       "    </tr>\n",
       "    <tr>\n",
       "      <th>1</th>\n",
       "      <td>1.594663e+09</td>\n",
       "      <td>0.004207</td>\n",
       "      <td>62.099998</td>\n",
       "      <td>0.006796</td>\n",
       "      <td>0.017986</td>\n",
       "      <td>25.000000</td>\n",
       "      <td>-1</td>\n",
       "      <td>-1</td>\n",
       "      <td>-1</td>\n",
       "      <td>-1</td>\n",
       "    </tr>\n",
       "    <tr>\n",
       "      <th>2</th>\n",
       "      <td>1.594701e+09</td>\n",
       "      <td>0.004824</td>\n",
       "      <td>60.200001</td>\n",
       "      <td>0.007503</td>\n",
       "      <td>0.019991</td>\n",
       "      <td>23.900000</td>\n",
       "      <td>-1</td>\n",
       "      <td>-1</td>\n",
       "      <td>-1</td>\n",
       "      <td>-1</td>\n",
       "    </tr>\n",
       "    <tr>\n",
       "      <th>3</th>\n",
       "      <td>1.594565e+09</td>\n",
       "      <td>0.004053</td>\n",
       "      <td>69.800003</td>\n",
       "      <td>0.006615</td>\n",
       "      <td>0.017473</td>\n",
       "      <td>25.799999</td>\n",
       "      <td>-1</td>\n",
       "      <td>-1</td>\n",
       "      <td>-1</td>\n",
       "      <td>-1</td>\n",
       "    </tr>\n",
       "    <tr>\n",
       "      <th>4</th>\n",
       "      <td>1.594753e+09</td>\n",
       "      <td>0.004797</td>\n",
       "      <td>53.400002</td>\n",
       "      <td>0.007472</td>\n",
       "      <td>0.019902</td>\n",
       "      <td>26.500000</td>\n",
       "      <td>-1</td>\n",
       "      <td>-1</td>\n",
       "      <td>-1</td>\n",
       "      <td>-1</td>\n",
       "    </tr>\n",
       "    <tr>\n",
       "      <th>...</th>\n",
       "      <td>...</td>\n",
       "      <td>...</td>\n",
       "      <td>...</td>\n",
       "      <td>...</td>\n",
       "      <td>...</td>\n",
       "      <td>...</td>\n",
       "      <td>...</td>\n",
       "      <td>...</td>\n",
       "      <td>...</td>\n",
       "      <td>...</td>\n",
       "    </tr>\n",
       "    <tr>\n",
       "      <th>10586</th>\n",
       "      <td>1.594619e+09</td>\n",
       "      <td>0.004566</td>\n",
       "      <td>59.900002</td>\n",
       "      <td>0.007210</td>\n",
       "      <td>0.019158</td>\n",
       "      <td>24.799999</td>\n",
       "      <td>-1</td>\n",
       "      <td>-1</td>\n",
       "      <td>-1</td>\n",
       "      <td>-1</td>\n",
       "    </tr>\n",
       "    <tr>\n",
       "      <th>10587</th>\n",
       "      <td>1.595136e+09</td>\n",
       "      <td>0.004345</td>\n",
       "      <td>56.400002</td>\n",
       "      <td>0.006957</td>\n",
       "      <td>0.018440</td>\n",
       "      <td>28.000000</td>\n",
       "      <td>-1</td>\n",
       "      <td>-1</td>\n",
       "      <td>-1</td>\n",
       "      <td>-1</td>\n",
       "    </tr>\n",
       "    <tr>\n",
       "      <th>10588</th>\n",
       "      <td>1.595136e+09</td>\n",
       "      <td>0.004345</td>\n",
       "      <td>56.299999</td>\n",
       "      <td>0.006957</td>\n",
       "      <td>0.018440</td>\n",
       "      <td>28.000000</td>\n",
       "      <td>-1</td>\n",
       "      <td>-1</td>\n",
       "      <td>-1</td>\n",
       "      <td>-1</td>\n",
       "    </tr>\n",
       "    <tr>\n",
       "      <th>10589</th>\n",
       "      <td>1.594978e+09</td>\n",
       "      <td>0.003681</td>\n",
       "      <td>77.400002</td>\n",
       "      <td>0.006170</td>\n",
       "      <td>0.016220</td>\n",
       "      <td>23.700001</td>\n",
       "      <td>-1</td>\n",
       "      <td>-1</td>\n",
       "      <td>-1</td>\n",
       "      <td>-1</td>\n",
       "    </tr>\n",
       "    <tr>\n",
       "      <th>10590</th>\n",
       "      <td>1.594844e+09</td>\n",
       "      <td>0.003866</td>\n",
       "      <td>49.900002</td>\n",
       "      <td>0.006392</td>\n",
       "      <td>0.016846</td>\n",
       "      <td>29.299999</td>\n",
       "      <td>-1</td>\n",
       "      <td>-1</td>\n",
       "      <td>-1</td>\n",
       "      <td>-1</td>\n",
       "    </tr>\n",
       "  </tbody>\n",
       "</table>\n",
       "<p>10591 rows × 10 columns</p>\n",
       "</div>"
      ],
      "text/plain": [
       "                 ts        co   humidity       lpg     smoke       temp  \\\n",
       "0      1.594642e+09  0.004511  59.700001  0.007148  0.018981  23.600000   \n",
       "1      1.594663e+09  0.004207  62.099998  0.006796  0.017986  25.000000   \n",
       "2      1.594701e+09  0.004824  60.200001  0.007503  0.019991  23.900000   \n",
       "3      1.594565e+09  0.004053  69.800003  0.006615  0.017473  25.799999   \n",
       "4      1.594753e+09  0.004797  53.400002  0.007472  0.019902  26.500000   \n",
       "...             ...       ...        ...       ...       ...        ...   \n",
       "10586  1.594619e+09  0.004566  59.900002  0.007210  0.019158  24.799999   \n",
       "10587  1.595136e+09  0.004345  56.400002  0.006957  0.018440  28.000000   \n",
       "10588  1.595136e+09  0.004345  56.299999  0.006957  0.018440  28.000000   \n",
       "10589  1.594978e+09  0.003681  77.400002  0.006170  0.016220  23.700001   \n",
       "10590  1.594844e+09  0.003866  49.900002  0.006392  0.016846  29.299999   \n",
       "\n",
       "       Temp Anomaly  Humidity Anomaly  CO Anomaly  LPG Anomaly  \n",
       "0                -1                -1          -1           -1  \n",
       "1                -1                -1          -1           -1  \n",
       "2                -1                -1          -1           -1  \n",
       "3                -1                -1          -1           -1  \n",
       "4                -1                -1          -1           -1  \n",
       "...             ...               ...         ...          ...  \n",
       "10586            -1                -1          -1           -1  \n",
       "10587            -1                -1          -1           -1  \n",
       "10588            -1                -1          -1           -1  \n",
       "10589            -1                -1          -1           -1  \n",
       "10590            -1                -1          -1           -1  \n",
       "\n",
       "[10591 rows x 10 columns]"
      ]
     },
     "execution_count": 11,
     "metadata": {},
     "output_type": "execute_result"
    }
   ],
   "source": [
    "#place2_dataset['Temp Anomaly', 'Humidity Anomaly', 'CO Anomaly', 'LPG Anomaly'] = -1\n",
    "anomaly_list = [['Temp Anomaly', temp_values_index], ['Humidity Anomaly', humidity_values_index], ['CO Anomaly', co_values_index], ['LPG Anomaly', lpg_values_index]]\n",
    "for name in anomaly_list:\n",
    "    place2_dataset[name[0]] = -1\n",
    "    place2_dataset.loc[name[1], name[0]] = 1\n",
    "\n",
    "place2_dataset\n",
    "\n",
    "\n",
    "#place2_dataset.drop(['Temp Anomaly, Humidity Anomaly, CO Anomaly, LPG Anomaly'], axis='columns')\n",
    "#place2_dataset=place2_dataset.iloc[:, :-1]"
   ]
  },
  {
   "cell_type": "code",
   "execution_count": 12,
   "id": "0550808f",
   "metadata": {},
   "outputs": [
    {
     "data": {
      "text/html": [
       "<div>\n",
       "<style scoped>\n",
       "    .dataframe tbody tr th:only-of-type {\n",
       "        vertical-align: middle;\n",
       "    }\n",
       "\n",
       "    .dataframe tbody tr th {\n",
       "        vertical-align: top;\n",
       "    }\n",
       "\n",
       "    .dataframe thead th {\n",
       "        text-align: right;\n",
       "    }\n",
       "</style>\n",
       "<table border=\"1\" class=\"dataframe\">\n",
       "  <thead>\n",
       "    <tr style=\"text-align: right;\">\n",
       "      <th></th>\n",
       "      <th>ts</th>\n",
       "      <th>co</th>\n",
       "      <th>humidity</th>\n",
       "      <th>lpg</th>\n",
       "      <th>smoke</th>\n",
       "      <th>temp</th>\n",
       "      <th>Temp Anomaly</th>\n",
       "      <th>Humidity Anomaly</th>\n",
       "      <th>CO Anomaly</th>\n",
       "      <th>LPG Anomaly</th>\n",
       "    </tr>\n",
       "  </thead>\n",
       "  <tbody>\n",
       "    <tr>\n",
       "      <th>7</th>\n",
       "      <td>1.595119e+09</td>\n",
       "      <td>0.005426</td>\n",
       "      <td>57.700001</td>\n",
       "      <td>0.008169</td>\n",
       "      <td>0.021891</td>\n",
       "      <td>29.000000</td>\n",
       "      <td>-1</td>\n",
       "      <td>-1</td>\n",
       "      <td>1</td>\n",
       "      <td>1</td>\n",
       "    </tr>\n",
       "    <tr>\n",
       "      <th>67</th>\n",
       "      <td>1.594699e+09</td>\n",
       "      <td>0.005113</td>\n",
       "      <td>63.299999</td>\n",
       "      <td>0.007825</td>\n",
       "      <td>0.020909</td>\n",
       "      <td>23.400000</td>\n",
       "      <td>-1</td>\n",
       "      <td>-1</td>\n",
       "      <td>1</td>\n",
       "      <td>1</td>\n",
       "    </tr>\n",
       "    <tr>\n",
       "      <th>92</th>\n",
       "      <td>1.595109e+09</td>\n",
       "      <td>0.004493</td>\n",
       "      <td>53.599998</td>\n",
       "      <td>0.007126</td>\n",
       "      <td>0.018920</td>\n",
       "      <td>30.600000</td>\n",
       "      <td>1</td>\n",
       "      <td>-1</td>\n",
       "      <td>-1</td>\n",
       "      <td>-1</td>\n",
       "    </tr>\n",
       "    <tr>\n",
       "      <th>116</th>\n",
       "      <td>1.594956e+09</td>\n",
       "      <td>0.003817</td>\n",
       "      <td>80.599998</td>\n",
       "      <td>0.006334</td>\n",
       "      <td>0.016682</td>\n",
       "      <td>23.900000</td>\n",
       "      <td>-1</td>\n",
       "      <td>1</td>\n",
       "      <td>-1</td>\n",
       "      <td>-1</td>\n",
       "    </tr>\n",
       "    <tr>\n",
       "      <th>117</th>\n",
       "      <td>1.594771e+09</td>\n",
       "      <td>0.005055</td>\n",
       "      <td>51.400002</td>\n",
       "      <td>0.007762</td>\n",
       "      <td>0.020727</td>\n",
       "      <td>26.700001</td>\n",
       "      <td>-1</td>\n",
       "      <td>-1</td>\n",
       "      <td>1</td>\n",
       "      <td>1</td>\n",
       "    </tr>\n",
       "    <tr>\n",
       "      <th>...</th>\n",
       "      <td>...</td>\n",
       "      <td>...</td>\n",
       "      <td>...</td>\n",
       "      <td>...</td>\n",
       "      <td>...</td>\n",
       "      <td>...</td>\n",
       "      <td>...</td>\n",
       "      <td>...</td>\n",
       "      <td>...</td>\n",
       "      <td>...</td>\n",
       "    </tr>\n",
       "    <tr>\n",
       "      <th>10496</th>\n",
       "      <td>1.595106e+09</td>\n",
       "      <td>0.004391</td>\n",
       "      <td>52.400002</td>\n",
       "      <td>0.007009</td>\n",
       "      <td>0.018589</td>\n",
       "      <td>30.299999</td>\n",
       "      <td>1</td>\n",
       "      <td>-1</td>\n",
       "      <td>-1</td>\n",
       "      <td>-1</td>\n",
       "    </tr>\n",
       "    <tr>\n",
       "      <th>10519</th>\n",
       "      <td>1.594697e+09</td>\n",
       "      <td>0.005046</td>\n",
       "      <td>69.900002</td>\n",
       "      <td>0.007751</td>\n",
       "      <td>0.020696</td>\n",
       "      <td>22.500000</td>\n",
       "      <td>-1</td>\n",
       "      <td>-1</td>\n",
       "      <td>1</td>\n",
       "      <td>1</td>\n",
       "    </tr>\n",
       "    <tr>\n",
       "      <th>10535</th>\n",
       "      <td>1.594951e+09</td>\n",
       "      <td>0.003782</td>\n",
       "      <td>82.599998</td>\n",
       "      <td>0.006292</td>\n",
       "      <td>0.016563</td>\n",
       "      <td>24.000000</td>\n",
       "      <td>-1</td>\n",
       "      <td>1</td>\n",
       "      <td>-1</td>\n",
       "      <td>-1</td>\n",
       "    </tr>\n",
       "    <tr>\n",
       "      <th>10577</th>\n",
       "      <td>1.594697e+09</td>\n",
       "      <td>0.005058</td>\n",
       "      <td>69.800003</td>\n",
       "      <td>0.007764</td>\n",
       "      <td>0.020735</td>\n",
       "      <td>22.600000</td>\n",
       "      <td>-1</td>\n",
       "      <td>-1</td>\n",
       "      <td>1</td>\n",
       "      <td>1</td>\n",
       "    </tr>\n",
       "    <tr>\n",
       "      <th>10582</th>\n",
       "      <td>1.594931e+09</td>\n",
       "      <td>0.003664</td>\n",
       "      <td>81.300003</td>\n",
       "      <td>0.006149</td>\n",
       "      <td>0.016163</td>\n",
       "      <td>25.200001</td>\n",
       "      <td>-1</td>\n",
       "      <td>1</td>\n",
       "      <td>-1</td>\n",
       "      <td>-1</td>\n",
       "    </tr>\n",
       "  </tbody>\n",
       "</table>\n",
       "<p>645 rows × 10 columns</p>\n",
       "</div>"
      ],
      "text/plain": [
       "                 ts        co   humidity       lpg     smoke       temp  \\\n",
       "7      1.595119e+09  0.005426  57.700001  0.008169  0.021891  29.000000   \n",
       "67     1.594699e+09  0.005113  63.299999  0.007825  0.020909  23.400000   \n",
       "92     1.595109e+09  0.004493  53.599998  0.007126  0.018920  30.600000   \n",
       "116    1.594956e+09  0.003817  80.599998  0.006334  0.016682  23.900000   \n",
       "117    1.594771e+09  0.005055  51.400002  0.007762  0.020727  26.700001   \n",
       "...             ...       ...        ...       ...       ...        ...   \n",
       "10496  1.595106e+09  0.004391  52.400002  0.007009  0.018589  30.299999   \n",
       "10519  1.594697e+09  0.005046  69.900002  0.007751  0.020696  22.500000   \n",
       "10535  1.594951e+09  0.003782  82.599998  0.006292  0.016563  24.000000   \n",
       "10577  1.594697e+09  0.005058  69.800003  0.007764  0.020735  22.600000   \n",
       "10582  1.594931e+09  0.003664  81.300003  0.006149  0.016163  25.200001   \n",
       "\n",
       "       Temp Anomaly  Humidity Anomaly  CO Anomaly  LPG Anomaly  \n",
       "7                -1                -1           1            1  \n",
       "67               -1                -1           1            1  \n",
       "92                1                -1          -1           -1  \n",
       "116              -1                 1          -1           -1  \n",
       "117              -1                -1           1            1  \n",
       "...             ...               ...         ...          ...  \n",
       "10496             1                -1          -1           -1  \n",
       "10519            -1                -1           1            1  \n",
       "10535            -1                 1          -1           -1  \n",
       "10577            -1                -1           1            1  \n",
       "10582            -1                 1          -1           -1  \n",
       "\n",
       "[645 rows x 10 columns]"
      ]
     },
     "execution_count": 12,
     "metadata": {},
     "output_type": "execute_result"
    }
   ],
   "source": [
    "anomaly_place2_dataset = place2_dataset[(place2_dataset['Temp Anomaly'] == 1) | (place2_dataset['Humidity Anomaly'] == 1) | (place2_dataset['CO Anomaly'] == 1) | (place2_dataset['LPG Anomaly'] == 1)]\n",
    "anomaly_place2_dataset"
   ]
  },
  {
   "cell_type": "code",
   "execution_count": 13,
   "id": "d22f66ec",
   "metadata": {},
   "outputs": [
    {
     "data": {
      "text/plain": [
       "0.06411103767349637"
      ]
     },
     "execution_count": 13,
     "metadata": {},
     "output_type": "execute_result"
    }
   ],
   "source": [
    "679/10591"
   ]
  },
  {
   "cell_type": "markdown",
   "id": "b466d904",
   "metadata": {},
   "source": [
    "### find the anomaly of temperature"
   ]
  },
  {
   "cell_type": "code",
   "execution_count": 14,
   "id": "9ace3d62",
   "metadata": {},
   "outputs": [
    {
     "data": {
      "image/png": "[encoded data removed]",
      "text/plain": [
       "<Figure size 640x480 with 1 Axes>"
      ]
     },
     "metadata": {},
     "output_type": "display_data"
    }
   ],
   "source": [
    "temp_df = place2_dataset[['ts', 'temp', 'Temp Anomaly']].sort_values('ts')\n",
    "# print(temp_df)\n",
    "\n",
    "plt.plot(temp_df['ts'], temp_df['temp'], color='b')\n",
    "\n",
    "anomaly_temp_df = temp_df[temp_df['Temp Anomaly'] == 1]\n",
    "\n",
    "plt.scatter(anomaly_temp_df['ts'], anomaly_temp_df['temp'], color='r')\n",
    "\n",
    "plt.xlabel('Timestamp')\n",
    "plt.ylabel('Temperature')\n",
    "plt.title('Temperature Variation')\n",
    "plt.show()"
   ]
  },
  {
   "cell_type": "markdown",
   "id": "69ea3f92",
   "metadata": {},
   "source": [
    "### find the anomaly of humidity"
   ]
  },
  {
   "cell_type": "code",
   "execution_count": 17,
   "id": "4a6f0080",
   "metadata": {},
   "outputs": [
    {
     "data": {
      "image/png": "[encoded data removed]",
      "text/plain": [
       "<Figure size 640x480 with 1 Axes>"
      ]
     },
     "metadata": {},
     "output_type": "display_data"
    }
   ],
   "source": [
    "humidity_df = place2_dataset[['ts', 'humidity', 'Humidity Anomaly']].sort_values('ts')\n",
    "# print(temp_df)\n",
    "\n",
    "plt.plot(humidity_df['ts'], humidity_df['humidity'], color='b')\n",
    "\n",
    "anomaly_humidity_df = humidity_df[humidity_df['Humidity Anomaly'] == 1]\n",
    "\n",
    "plt.scatter(anomaly_humidity_df['ts'], anomaly_humidity_df['humidity'], color='r')\n",
    "\n",
    "plt.xlabel('Timestamp')\n",
    "plt.ylabel('Humidity')\n",
    "plt.title('Humidity Variation')\n",
    "plt.show()"
   ]
  },
  {
   "cell_type": "markdown",
   "id": "b3ba9e56",
   "metadata": {},
   "source": [
    "### find the anomaly of CO"
   ]
  },
  {
   "cell_type": "code",
   "execution_count": 18,
   "id": "0114031b",
   "metadata": {},
   "outputs": [
    {
     "data": {
      "image/png": "[encoded data removed]",
      "text/plain": [
       "<Figure size 640x480 with 1 Axes>"
      ]
     },
     "metadata": {},
     "output_type": "display_data"
    }
   ],
   "source": [
    "co_df = place2_dataset[['ts', 'co', 'CO Anomaly']].sort_values('ts')\n",
    "# print(temp_df)\n",
    "\n",
    "plt.plot(co_df['ts'], co_df['co'], color='b')\n",
    "\n",
    "anomaly_co_df = co_df[co_df['CO Anomaly'] == 1]\n",
    "\n",
    "plt.scatter(anomaly_co_df['ts'], anomaly_co_df['co'], color='r')\n",
    "\n",
    "plt.xlabel('Timestamp')\n",
    "plt.ylabel('CO')\n",
    "plt.title('CO Variation')\n",
    "plt.show()"
   ]
  },
  {
   "cell_type": "markdown",
   "id": "74a007cb",
   "metadata": {},
   "source": [
    "### find the anomaly of LPG"
   ]
  },
  {
   "cell_type": "code",
   "execution_count": 20,
   "id": "b64361ae",
   "metadata": {},
   "outputs": [
    {
     "data": {
      "image/png": "[encoded data removed]",
      "text/plain": [
       "<Figure size 640x480 with 1 Axes>"
      ]
     },
     "metadata": {},
     "output_type": "display_data"
    }
   ],
   "source": [
    "lpg_df = place2_dataset[['ts', 'lpg', 'LPG Anomaly']].sort_values('ts')\n",
    "# print(temp_df)\n",
    "\n",
    "plt.plot(lpg_df['ts'], lpg_df['lpg'], color='b')\n",
    "\n",
    "anomaly_lpg_df = lpg_df[lpg_df['LPG Anomaly'] == 1]\n",
    "\n",
    "plt.scatter(anomaly_lpg_df['ts'], anomaly_lpg_df['lpg'], color='r')\n",
    "\n",
    "plt.xlabel('Timestamp')\n",
    "plt.ylabel('Temperature')\n",
    "plt.title('Temperature Variation')\n",
    "plt.show()"
   ]
  },
  {
   "cell_type": "markdown",
   "id": "160ae304",
   "metadata": {},
   "source": [
    "### Correlation"
   ]
  },
  {
   "cell_type": "code",
   "execution_count": 21,
   "id": "bb4916e2",
   "metadata": {},
   "outputs": [
    {
     "data": {
      "image/png": "[encoded data removed]",
      "text/plain": [
       "<Figure size 640x480 with 2 Axes>"
      ]
     },
     "metadata": {},
     "output_type": "display_data"
    }
   ],
   "source": [
    "corr_matrix = place2_dataset[[ 'temp', 'co', 'humidity', 'lpg']].corr()\n",
    "sns.heatmap(corr_matrix, annot=True)\n",
    "plt.show()"
   ]
  },
  {
   "cell_type": "code",
   "execution_count": 22,
   "id": "61a39a9f",
   "metadata": {},
   "outputs": [
    {
     "data": {
      "text/html": [
       "<div>\n",
       "<style scoped>\n",
       "    .dataframe tbody tr th:only-of-type {\n",
       "        vertical-align: middle;\n",
       "    }\n",
       "\n",
       "    .dataframe tbody tr th {\n",
       "        vertical-align: top;\n",
       "    }\n",
       "\n",
       "    .dataframe thead th {\n",
       "        text-align: right;\n",
       "    }\n",
       "</style>\n",
       "<table border=\"1\" class=\"dataframe\">\n",
       "  <thead>\n",
       "    <tr style=\"text-align: right;\">\n",
       "      <th></th>\n",
       "      <th>co</th>\n",
       "      <th>lpg</th>\n",
       "      <th>CO Anomaly</th>\n",
       "      <th>LPG Anomaly</th>\n",
       "    </tr>\n",
       "  </thead>\n",
       "  <tbody>\n",
       "    <tr>\n",
       "      <th>0</th>\n",
       "      <td>0.004511</td>\n",
       "      <td>0.007148</td>\n",
       "      <td>-1</td>\n",
       "      <td>-1</td>\n",
       "    </tr>\n",
       "    <tr>\n",
       "      <th>1</th>\n",
       "      <td>0.004207</td>\n",
       "      <td>0.006796</td>\n",
       "      <td>-1</td>\n",
       "      <td>-1</td>\n",
       "    </tr>\n",
       "    <tr>\n",
       "      <th>2</th>\n",
       "      <td>0.004824</td>\n",
       "      <td>0.007503</td>\n",
       "      <td>-1</td>\n",
       "      <td>-1</td>\n",
       "    </tr>\n",
       "    <tr>\n",
       "      <th>3</th>\n",
       "      <td>0.004053</td>\n",
       "      <td>0.006615</td>\n",
       "      <td>-1</td>\n",
       "      <td>-1</td>\n",
       "    </tr>\n",
       "    <tr>\n",
       "      <th>4</th>\n",
       "      <td>0.004797</td>\n",
       "      <td>0.007472</td>\n",
       "      <td>-1</td>\n",
       "      <td>-1</td>\n",
       "    </tr>\n",
       "    <tr>\n",
       "      <th>...</th>\n",
       "      <td>...</td>\n",
       "      <td>...</td>\n",
       "      <td>...</td>\n",
       "      <td>...</td>\n",
       "    </tr>\n",
       "    <tr>\n",
       "      <th>10586</th>\n",
       "      <td>0.004566</td>\n",
       "      <td>0.007210</td>\n",
       "      <td>-1</td>\n",
       "      <td>-1</td>\n",
       "    </tr>\n",
       "    <tr>\n",
       "      <th>10587</th>\n",
       "      <td>0.004345</td>\n",
       "      <td>0.006957</td>\n",
       "      <td>-1</td>\n",
       "      <td>-1</td>\n",
       "    </tr>\n",
       "    <tr>\n",
       "      <th>10588</th>\n",
       "      <td>0.004345</td>\n",
       "      <td>0.006957</td>\n",
       "      <td>-1</td>\n",
       "      <td>-1</td>\n",
       "    </tr>\n",
       "    <tr>\n",
       "      <th>10589</th>\n",
       "      <td>0.003681</td>\n",
       "      <td>0.006170</td>\n",
       "      <td>-1</td>\n",
       "      <td>-1</td>\n",
       "    </tr>\n",
       "    <tr>\n",
       "      <th>10590</th>\n",
       "      <td>0.003866</td>\n",
       "      <td>0.006392</td>\n",
       "      <td>-1</td>\n",
       "      <td>-1</td>\n",
       "    </tr>\n",
       "  </tbody>\n",
       "</table>\n",
       "<p>10591 rows × 4 columns</p>\n",
       "</div>"
      ],
      "text/plain": [
       "             co       lpg  CO Anomaly  LPG Anomaly\n",
       "0      0.004511  0.007148          -1           -1\n",
       "1      0.004207  0.006796          -1           -1\n",
       "2      0.004824  0.007503          -1           -1\n",
       "3      0.004053  0.006615          -1           -1\n",
       "4      0.004797  0.007472          -1           -1\n",
       "...         ...       ...         ...          ...\n",
       "10586  0.004566  0.007210          -1           -1\n",
       "10587  0.004345  0.006957          -1           -1\n",
       "10588  0.004345  0.006957          -1           -1\n",
       "10589  0.003681  0.006170          -1           -1\n",
       "10590  0.003866  0.006392          -1           -1\n",
       "\n",
       "[10591 rows x 4 columns]"
      ]
     },
     "execution_count": 22,
     "metadata": {},
     "output_type": "execute_result"
    }
   ],
   "source": [
    "corr_co_and_lpg = place2_dataset[[ 'co', 'lpg', 'CO Anomaly', 'LPG Anomaly']]\n",
    "corr_co_and_lpg"
   ]
  },
  {
   "cell_type": "code",
   "execution_count": 23,
   "id": "64341f7c",
   "metadata": {},
   "outputs": [
    {
     "data": {
      "text/html": [
       "<div>\n",
       "<style scoped>\n",
       "    .dataframe tbody tr th:only-of-type {\n",
       "        vertical-align: middle;\n",
       "    }\n",
       "\n",
       "    .dataframe tbody tr th {\n",
       "        vertical-align: top;\n",
       "    }\n",
       "\n",
       "    .dataframe thead th {\n",
       "        text-align: right;\n",
       "    }\n",
       "</style>\n",
       "<table border=\"1\" class=\"dataframe\">\n",
       "  <thead>\n",
       "    <tr style=\"text-align: right;\">\n",
       "      <th></th>\n",
       "      <th>co</th>\n",
       "      <th>lpg</th>\n",
       "      <th>CO Anomaly</th>\n",
       "      <th>LPG Anomaly</th>\n",
       "    </tr>\n",
       "  </thead>\n",
       "  <tbody>\n",
       "    <tr>\n",
       "      <th>7</th>\n",
       "      <td>0.005426</td>\n",
       "      <td>0.008169</td>\n",
       "      <td>1</td>\n",
       "      <td>1</td>\n",
       "    </tr>\n",
       "    <tr>\n",
       "      <th>67</th>\n",
       "      <td>0.005113</td>\n",
       "      <td>0.007825</td>\n",
       "      <td>1</td>\n",
       "      <td>1</td>\n",
       "    </tr>\n",
       "    <tr>\n",
       "      <th>117</th>\n",
       "      <td>0.005055</td>\n",
       "      <td>0.007762</td>\n",
       "      <td>1</td>\n",
       "      <td>1</td>\n",
       "    </tr>\n",
       "    <tr>\n",
       "      <th>129</th>\n",
       "      <td>0.005108</td>\n",
       "      <td>0.007820</td>\n",
       "      <td>1</td>\n",
       "      <td>1</td>\n",
       "    </tr>\n",
       "    <tr>\n",
       "      <th>153</th>\n",
       "      <td>0.004878</td>\n",
       "      <td>0.007563</td>\n",
       "      <td>1</td>\n",
       "      <td>1</td>\n",
       "    </tr>\n",
       "    <tr>\n",
       "      <th>...</th>\n",
       "      <td>...</td>\n",
       "      <td>...</td>\n",
       "      <td>...</td>\n",
       "      <td>...</td>\n",
       "    </tr>\n",
       "    <tr>\n",
       "      <th>10339</th>\n",
       "      <td>0.004925</td>\n",
       "      <td>0.007616</td>\n",
       "      <td>1</td>\n",
       "      <td>1</td>\n",
       "    </tr>\n",
       "    <tr>\n",
       "      <th>10350</th>\n",
       "      <td>0.005108</td>\n",
       "      <td>0.007820</td>\n",
       "      <td>1</td>\n",
       "      <td>1</td>\n",
       "    </tr>\n",
       "    <tr>\n",
       "      <th>10357</th>\n",
       "      <td>0.004997</td>\n",
       "      <td>0.007696</td>\n",
       "      <td>1</td>\n",
       "      <td>1</td>\n",
       "    </tr>\n",
       "    <tr>\n",
       "      <th>10519</th>\n",
       "      <td>0.005046</td>\n",
       "      <td>0.007751</td>\n",
       "      <td>1</td>\n",
       "      <td>1</td>\n",
       "    </tr>\n",
       "    <tr>\n",
       "      <th>10577</th>\n",
       "      <td>0.005058</td>\n",
       "      <td>0.007764</td>\n",
       "      <td>1</td>\n",
       "      <td>1</td>\n",
       "    </tr>\n",
       "  </tbody>\n",
       "</table>\n",
       "<p>214 rows × 4 columns</p>\n",
       "</div>"
      ],
      "text/plain": [
       "             co       lpg  CO Anomaly  LPG Anomaly\n",
       "7      0.005426  0.008169           1            1\n",
       "67     0.005113  0.007825           1            1\n",
       "117    0.005055  0.007762           1            1\n",
       "129    0.005108  0.007820           1            1\n",
       "153    0.004878  0.007563           1            1\n",
       "...         ...       ...         ...          ...\n",
       "10339  0.004925  0.007616           1            1\n",
       "10350  0.005108  0.007820           1            1\n",
       "10357  0.004997  0.007696           1            1\n",
       "10519  0.005046  0.007751           1            1\n",
       "10577  0.005058  0.007764           1            1\n",
       "\n",
       "[214 rows x 4 columns]"
      ]
     },
     "execution_count": 23,
     "metadata": {},
     "output_type": "execute_result"
    }
   ],
   "source": [
    "co_and_lpg_anomaly = corr_co_and_lpg[(corr_co_and_lpg['CO Anomaly'] == 1) & (corr_co_and_lpg['LPG Anomaly'] == 1)]\n",
    "co_and_lpg_anomaly"
   ]
  },
  {
   "cell_type": "code",
   "execution_count": 24,
   "id": "dc860879",
   "metadata": {},
   "outputs": [
    {
     "data": {
      "text/html": [
       "<div>\n",
       "<style scoped>\n",
       "    .dataframe tbody tr th:only-of-type {\n",
       "        vertical-align: middle;\n",
       "    }\n",
       "\n",
       "    .dataframe tbody tr th {\n",
       "        vertical-align: top;\n",
       "    }\n",
       "\n",
       "    .dataframe thead th {\n",
       "        text-align: right;\n",
       "    }\n",
       "</style>\n",
       "<table border=\"1\" class=\"dataframe\">\n",
       "  <thead>\n",
       "    <tr style=\"text-align: right;\">\n",
       "      <th></th>\n",
       "      <th>co</th>\n",
       "      <th>lpg</th>\n",
       "      <th>CO Anomaly</th>\n",
       "      <th>LPG Anomaly</th>\n",
       "    </tr>\n",
       "  </thead>\n",
       "  <tbody>\n",
       "    <tr>\n",
       "      <th>7</th>\n",
       "      <td>0.005426</td>\n",
       "      <td>0.008169</td>\n",
       "      <td>1</td>\n",
       "      <td>1</td>\n",
       "    </tr>\n",
       "    <tr>\n",
       "      <th>67</th>\n",
       "      <td>0.005113</td>\n",
       "      <td>0.007825</td>\n",
       "      <td>1</td>\n",
       "      <td>1</td>\n",
       "    </tr>\n",
       "    <tr>\n",
       "      <th>117</th>\n",
       "      <td>0.005055</td>\n",
       "      <td>0.007762</td>\n",
       "      <td>1</td>\n",
       "      <td>1</td>\n",
       "    </tr>\n",
       "    <tr>\n",
       "      <th>129</th>\n",
       "      <td>0.005108</td>\n",
       "      <td>0.007820</td>\n",
       "      <td>1</td>\n",
       "      <td>1</td>\n",
       "    </tr>\n",
       "    <tr>\n",
       "      <th>153</th>\n",
       "      <td>0.004878</td>\n",
       "      <td>0.007563</td>\n",
       "      <td>1</td>\n",
       "      <td>1</td>\n",
       "    </tr>\n",
       "    <tr>\n",
       "      <th>...</th>\n",
       "      <td>...</td>\n",
       "      <td>...</td>\n",
       "      <td>...</td>\n",
       "      <td>...</td>\n",
       "    </tr>\n",
       "    <tr>\n",
       "      <th>10339</th>\n",
       "      <td>0.004925</td>\n",
       "      <td>0.007616</td>\n",
       "      <td>1</td>\n",
       "      <td>1</td>\n",
       "    </tr>\n",
       "    <tr>\n",
       "      <th>10350</th>\n",
       "      <td>0.005108</td>\n",
       "      <td>0.007820</td>\n",
       "      <td>1</td>\n",
       "      <td>1</td>\n",
       "    </tr>\n",
       "    <tr>\n",
       "      <th>10357</th>\n",
       "      <td>0.004997</td>\n",
       "      <td>0.007696</td>\n",
       "      <td>1</td>\n",
       "      <td>1</td>\n",
       "    </tr>\n",
       "    <tr>\n",
       "      <th>10519</th>\n",
       "      <td>0.005046</td>\n",
       "      <td>0.007751</td>\n",
       "      <td>1</td>\n",
       "      <td>1</td>\n",
       "    </tr>\n",
       "    <tr>\n",
       "      <th>10577</th>\n",
       "      <td>0.005058</td>\n",
       "      <td>0.007764</td>\n",
       "      <td>1</td>\n",
       "      <td>1</td>\n",
       "    </tr>\n",
       "  </tbody>\n",
       "</table>\n",
       "<p>214 rows × 4 columns</p>\n",
       "</div>"
      ],
      "text/plain": [
       "             co       lpg  CO Anomaly  LPG Anomaly\n",
       "7      0.005426  0.008169           1            1\n",
       "67     0.005113  0.007825           1            1\n",
       "117    0.005055  0.007762           1            1\n",
       "129    0.005108  0.007820           1            1\n",
       "153    0.004878  0.007563           1            1\n",
       "...         ...       ...         ...          ...\n",
       "10339  0.004925  0.007616           1            1\n",
       "10350  0.005108  0.007820           1            1\n",
       "10357  0.004997  0.007696           1            1\n",
       "10519  0.005046  0.007751           1            1\n",
       "10577  0.005058  0.007764           1            1\n",
       "\n",
       "[214 rows x 4 columns]"
      ]
     },
     "execution_count": 24,
     "metadata": {},
     "output_type": "execute_result"
    }
   ],
   "source": [
    "co_or_lpg_anomaly = corr_co_and_lpg[(corr_co_and_lpg['CO Anomaly'] == 1) | (corr_co_and_lpg['LPG Anomaly'] == 1)]\n",
    "co_or_lpg_anomaly"
   ]
  },
  {
   "cell_type": "code",
   "execution_count": 25,
   "id": "ca0120db",
   "metadata": {},
   "outputs": [
    {
     "data": {
      "image/png": "[encoded data removed]",
      "text/plain": [
       "<Figure size 640x480 with 1 Axes>"
      ]
     },
     "metadata": {},
     "output_type": "display_data"
    }
   ],
   "source": [
    "plt.scatter(place2_dataset['co'], place2_dataset['lpg'], color='b')\n",
    "plt.scatter(co_or_lpg_anomaly['co'], co_or_lpg_anomaly['lpg'], color='r')\n",
    "plt.scatter(co_and_lpg_anomaly['co'], co_and_lpg_anomaly['lpg'], color='g')\n",
    "\n",
    "plt.xlabel('CO')\n",
    "plt.ylabel('LPG')\n",
    "plt.title('Correlation between CO and LPG')\n",
    "plt.show()"
   ]
  },
  {
   "cell_type": "code",
   "execution_count": null,
   "id": "56ec4643",
   "metadata": {},
   "outputs": [],
   "source": []
  }
 ],
 "metadata": {
  "kernelspec": {
   "display_name": "Python 3 (ipykernel)",
   "language": "python",
   "name": "python3"
  },
  "language_info": {
   "codemirror_mode": {
    "name": "ipython",
    "version": 3
   },
   "file_extension": ".py",
   "mimetype": "text/x-python",
   "name": "python",
   "nbconvert_exporter": "python",
   "pygments_lexer": "ipython3",
   "version": "3.9.13"
  }
 },
 "nbformat": 4,
 "nbformat_minor": 5
}
